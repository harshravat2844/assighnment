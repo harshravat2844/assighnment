{
 "cells": [
  {
   "cell_type": "markdown",
   "id": "061a8de2",
   "metadata": {
    "id": "061a8de2"
   },
   "source": [
    "# **GUJARAT UNIVERSITY**\n",
    "\n",
    "## MSc IT. Data Management and Visual Insights (5 Years Intigrated)\n",
    "\n",
    "### INTERNAL EXAMINATIONS\n",
    "\n",
    "### Semester-V (Sept 2023)"
   ]
  },
  {
   "cell_type": "markdown",
   "id": "dcc45bf5",
   "metadata": {
    "id": "dcc45bf5"
   },
   "source": [
    "### Subject Name: *Data Analytics Programming Language*                \n",
    "### Code: DMVIBSC25\n",
    "### Time: 90 min\n",
    "#### Max marks: 30\n"
   ]
  },
  {
   "cell_type": "markdown",
   "id": "9f500ef0",
   "metadata": {
    "id": "9f500ef0"
   },
   "source": [
    "**Instructions**\n",
    "\n",
    " - 1) Download the required Packages according to need\n",
    " - 2) Rename the file before submission as \"EnrollmentNo_Student_Name_DataSem5_DAPL\""
   ]
  },
  {
   "cell_type": "markdown",
   "id": "7aa1dbac",
   "metadata": {
    "id": "7aa1dbac"
   },
   "source": [
    "## Set A. 15 Marks"
   ]
  },
  {
   "cell_type": "markdown",
   "id": "94d71bd6",
   "metadata": {
    "id": "94d71bd6"
   },
   "source": [
    "**1. Import the Required Libraries (1 Marks)**\n",
    "\n",
    "**Load the dataset**"
   ]
  },
  {
   "cell_type": "code",
   "execution_count": 1,
   "id": "c5513bd1",
   "metadata": {
    "id": "c5513bd1"
   },
   "outputs": [],
   "source": [
    "# Code here\n",
    "\n",
    "#import packages\n",
    "import pandas as pd\n",
    "import numpy as np\n",
    "import matplotlib.pyplot as plt\n",
    "import seaborn as sns"
   ]
  },
  {
   "cell_type": "code",
   "execution_count": 2,
   "id": "231242bf",
   "metadata": {
    "id": "231242bf"
   },
   "outputs": [],
   "source": [
    "#load the datset\n",
    "Super_Store_Data=pd.read_excel(\"Superstore Data.xlsx\")"
   ]
  },
  {
   "cell_type": "markdown",
   "id": "29b0d7ff",
   "metadata": {
    "id": "29b0d7ff"
   },
   "source": [
    "**2. Show the top 15 Observations (1 Marks)**"
   ]
  },
  {
   "cell_type": "code",
   "execution_count": 3,
   "id": "b0e826d4",
   "metadata": {
    "id": "b0e826d4"
   },
   "outputs": [
    {
     "data": {
      "text/html": [
       "<div>\n",
       "<style scoped>\n",
       "    .dataframe tbody tr th:only-of-type {\n",
       "        vertical-align: middle;\n",
       "    }\n",
       "\n",
       "    .dataframe tbody tr th {\n",
       "        vertical-align: top;\n",
       "    }\n",
       "\n",
       "    .dataframe thead th {\n",
       "        text-align: right;\n",
       "    }\n",
       "</style>\n",
       "<table border=\"1\" class=\"dataframe\">\n",
       "  <thead>\n",
       "    <tr style=\"text-align: right;\">\n",
       "      <th></th>\n",
       "      <th>State</th>\n",
       "      <th>Segment</th>\n",
       "      <th>Region</th>\n",
       "      <th>Ship Mode</th>\n",
       "      <th>Sales</th>\n",
       "      <th>Quantity</th>\n",
       "      <th>Discount</th>\n",
       "      <th>Profit</th>\n",
       "    </tr>\n",
       "  </thead>\n",
       "  <tbody>\n",
       "    <tr>\n",
       "      <th>0</th>\n",
       "      <td>Kentucky</td>\n",
       "      <td>Consumer</td>\n",
       "      <td>South</td>\n",
       "      <td>Second Class</td>\n",
       "      <td>261.9600</td>\n",
       "      <td>2.0</td>\n",
       "      <td>0.00</td>\n",
       "      <td>41.9136</td>\n",
       "    </tr>\n",
       "    <tr>\n",
       "      <th>1</th>\n",
       "      <td>Kentucky</td>\n",
       "      <td>Consumer</td>\n",
       "      <td>South</td>\n",
       "      <td>Second Class</td>\n",
       "      <td>731.9400</td>\n",
       "      <td>3.0</td>\n",
       "      <td>0.00</td>\n",
       "      <td>219.5820</td>\n",
       "    </tr>\n",
       "    <tr>\n",
       "      <th>2</th>\n",
       "      <td>California</td>\n",
       "      <td>Corporate</td>\n",
       "      <td>West</td>\n",
       "      <td>Second Class</td>\n",
       "      <td>14.6200</td>\n",
       "      <td>2.0</td>\n",
       "      <td>0.00</td>\n",
       "      <td>6.8714</td>\n",
       "    </tr>\n",
       "    <tr>\n",
       "      <th>3</th>\n",
       "      <td>Florida</td>\n",
       "      <td>Consumer</td>\n",
       "      <td>South</td>\n",
       "      <td>Standard Class</td>\n",
       "      <td>957.5775</td>\n",
       "      <td>5.0</td>\n",
       "      <td>0.45</td>\n",
       "      <td>-383.0310</td>\n",
       "    </tr>\n",
       "    <tr>\n",
       "      <th>4</th>\n",
       "      <td>Florida</td>\n",
       "      <td>Consumer</td>\n",
       "      <td>South</td>\n",
       "      <td>Standard Class</td>\n",
       "      <td>22.3680</td>\n",
       "      <td>2.0</td>\n",
       "      <td>0.20</td>\n",
       "      <td>2.5164</td>\n",
       "    </tr>\n",
       "    <tr>\n",
       "      <th>5</th>\n",
       "      <td>California</td>\n",
       "      <td>Consumer</td>\n",
       "      <td>West</td>\n",
       "      <td>Standard Class</td>\n",
       "      <td>48.8600</td>\n",
       "      <td>7.0</td>\n",
       "      <td>0.00</td>\n",
       "      <td>14.1694</td>\n",
       "    </tr>\n",
       "    <tr>\n",
       "      <th>6</th>\n",
       "      <td>California</td>\n",
       "      <td>Consumer</td>\n",
       "      <td>West</td>\n",
       "      <td>Standard Class</td>\n",
       "      <td>7.2800</td>\n",
       "      <td>4.0</td>\n",
       "      <td>0.00</td>\n",
       "      <td>1.9656</td>\n",
       "    </tr>\n",
       "    <tr>\n",
       "      <th>7</th>\n",
       "      <td>California</td>\n",
       "      <td>Consumer</td>\n",
       "      <td>West</td>\n",
       "      <td>Standard Class</td>\n",
       "      <td>907.1520</td>\n",
       "      <td>6.0</td>\n",
       "      <td>0.20</td>\n",
       "      <td>90.7152</td>\n",
       "    </tr>\n",
       "    <tr>\n",
       "      <th>8</th>\n",
       "      <td>California</td>\n",
       "      <td>Consumer</td>\n",
       "      <td>West</td>\n",
       "      <td>Standard Class</td>\n",
       "      <td>18.5040</td>\n",
       "      <td>3.0</td>\n",
       "      <td>0.20</td>\n",
       "      <td>5.7825</td>\n",
       "    </tr>\n",
       "    <tr>\n",
       "      <th>9</th>\n",
       "      <td>California</td>\n",
       "      <td>Consumer</td>\n",
       "      <td>West</td>\n",
       "      <td>Standard Class</td>\n",
       "      <td>114.9000</td>\n",
       "      <td>5.0</td>\n",
       "      <td>0.00</td>\n",
       "      <td>34.4700</td>\n",
       "    </tr>\n",
       "    <tr>\n",
       "      <th>10</th>\n",
       "      <td>California</td>\n",
       "      <td>Consumer</td>\n",
       "      <td>West</td>\n",
       "      <td>Standard Class</td>\n",
       "      <td>1706.1840</td>\n",
       "      <td>9.0</td>\n",
       "      <td>0.20</td>\n",
       "      <td>85.3092</td>\n",
       "    </tr>\n",
       "    <tr>\n",
       "      <th>11</th>\n",
       "      <td>California</td>\n",
       "      <td>Consumer</td>\n",
       "      <td>West</td>\n",
       "      <td>Standard Class</td>\n",
       "      <td>911.4240</td>\n",
       "      <td>4.0</td>\n",
       "      <td>0.20</td>\n",
       "      <td>68.3568</td>\n",
       "    </tr>\n",
       "    <tr>\n",
       "      <th>12</th>\n",
       "      <td>North Carolina</td>\n",
       "      <td>Consumer</td>\n",
       "      <td>South</td>\n",
       "      <td>Standard Class</td>\n",
       "      <td>15.5520</td>\n",
       "      <td>3.0</td>\n",
       "      <td>0.20</td>\n",
       "      <td>5.4432</td>\n",
       "    </tr>\n",
       "    <tr>\n",
       "      <th>13</th>\n",
       "      <td>Washington</td>\n",
       "      <td>Consumer</td>\n",
       "      <td>West</td>\n",
       "      <td>Standard Class</td>\n",
       "      <td>407.9760</td>\n",
       "      <td>3.0</td>\n",
       "      <td>0.20</td>\n",
       "      <td>132.5922</td>\n",
       "    </tr>\n",
       "    <tr>\n",
       "      <th>14</th>\n",
       "      <td>Texas</td>\n",
       "      <td>Home Office</td>\n",
       "      <td>Central</td>\n",
       "      <td>Standard Class</td>\n",
       "      <td>68.8100</td>\n",
       "      <td>5.0</td>\n",
       "      <td>0.80</td>\n",
       "      <td>-123.8580</td>\n",
       "    </tr>\n",
       "  </tbody>\n",
       "</table>\n",
       "</div>"
      ],
      "text/plain": [
       "             State      Segment   Region       Ship Mode      Sales  Quantity  \\\n",
       "0         Kentucky     Consumer    South    Second Class   261.9600       2.0   \n",
       "1         Kentucky     Consumer    South    Second Class   731.9400       3.0   \n",
       "2       California    Corporate     West    Second Class    14.6200       2.0   \n",
       "3          Florida     Consumer    South  Standard Class   957.5775       5.0   \n",
       "4          Florida     Consumer    South  Standard Class    22.3680       2.0   \n",
       "5       California     Consumer     West  Standard Class    48.8600       7.0   \n",
       "6       California     Consumer     West  Standard Class     7.2800       4.0   \n",
       "7       California     Consumer     West  Standard Class   907.1520       6.0   \n",
       "8       California     Consumer     West  Standard Class    18.5040       3.0   \n",
       "9       California     Consumer     West  Standard Class   114.9000       5.0   \n",
       "10      California     Consumer     West  Standard Class  1706.1840       9.0   \n",
       "11      California     Consumer     West  Standard Class   911.4240       4.0   \n",
       "12  North Carolina     Consumer    South  Standard Class    15.5520       3.0   \n",
       "13      Washington     Consumer     West  Standard Class   407.9760       3.0   \n",
       "14           Texas  Home Office  Central  Standard Class    68.8100       5.0   \n",
       "\n",
       "    Discount    Profit  \n",
       "0       0.00   41.9136  \n",
       "1       0.00  219.5820  \n",
       "2       0.00    6.8714  \n",
       "3       0.45 -383.0310  \n",
       "4       0.20    2.5164  \n",
       "5       0.00   14.1694  \n",
       "6       0.00    1.9656  \n",
       "7       0.20   90.7152  \n",
       "8       0.20    5.7825  \n",
       "9       0.00   34.4700  \n",
       "10      0.20   85.3092  \n",
       "11      0.20   68.3568  \n",
       "12      0.20    5.4432  \n",
       "13      0.20  132.5922  \n",
       "14      0.80 -123.8580  "
      ]
     },
     "execution_count": 3,
     "metadata": {},
     "output_type": "execute_result"
    }
   ],
   "source": [
    "# Code here\n",
    "\n",
    "Super_Store_Data.head(15)"
   ]
  },
  {
   "cell_type": "code",
   "execution_count": null,
   "id": "cc38e798",
   "metadata": {
    "id": "cc38e798"
   },
   "outputs": [],
   "source": []
  },
  {
   "cell_type": "markdown",
   "id": "33ea5a77",
   "metadata": {
    "id": "33ea5a77"
   },
   "source": [
    "**3. Show the bottom most 15 observations (1 Marks)**"
   ]
  },
  {
   "cell_type": "code",
   "execution_count": 4,
   "id": "1a877362",
   "metadata": {
    "id": "1a877362"
   },
   "outputs": [
    {
     "data": {
      "text/html": [
       "<div>\n",
       "<style scoped>\n",
       "    .dataframe tbody tr th:only-of-type {\n",
       "        vertical-align: middle;\n",
       "    }\n",
       "\n",
       "    .dataframe tbody tr th {\n",
       "        vertical-align: top;\n",
       "    }\n",
       "\n",
       "    .dataframe thead th {\n",
       "        text-align: right;\n",
       "    }\n",
       "</style>\n",
       "<table border=\"1\" class=\"dataframe\">\n",
       "  <thead>\n",
       "    <tr style=\"text-align: right;\">\n",
       "      <th></th>\n",
       "      <th>State</th>\n",
       "      <th>Segment</th>\n",
       "      <th>Region</th>\n",
       "      <th>Ship Mode</th>\n",
       "      <th>Sales</th>\n",
       "      <th>Quantity</th>\n",
       "      <th>Discount</th>\n",
       "      <th>Profit</th>\n",
       "    </tr>\n",
       "  </thead>\n",
       "  <tbody>\n",
       "    <tr>\n",
       "      <th>1483</th>\n",
       "      <td>Tennessee</td>\n",
       "      <td>Consumer</td>\n",
       "      <td>South</td>\n",
       "      <td>Second Class</td>\n",
       "      <td>3.424</td>\n",
       "      <td>1.0</td>\n",
       "      <td>0.2</td>\n",
       "      <td>1.0700</td>\n",
       "    </tr>\n",
       "    <tr>\n",
       "      <th>1484</th>\n",
       "      <td>Washington</td>\n",
       "      <td>Corporate</td>\n",
       "      <td>West</td>\n",
       "      <td>Standard Class</td>\n",
       "      <td>177.000</td>\n",
       "      <td>3.0</td>\n",
       "      <td>0.0</td>\n",
       "      <td>30.0900</td>\n",
       "    </tr>\n",
       "    <tr>\n",
       "      <th>1485</th>\n",
       "      <td>New York</td>\n",
       "      <td>Consumer</td>\n",
       "      <td>East</td>\n",
       "      <td>Standard Class</td>\n",
       "      <td>3.760</td>\n",
       "      <td>2.0</td>\n",
       "      <td>0.0</td>\n",
       "      <td>1.3160</td>\n",
       "    </tr>\n",
       "    <tr>\n",
       "      <th>1486</th>\n",
       "      <td>California</td>\n",
       "      <td>Home Office</td>\n",
       "      <td>West</td>\n",
       "      <td>Standard Class</td>\n",
       "      <td>1212.848</td>\n",
       "      <td>7.0</td>\n",
       "      <td>0.2</td>\n",
       "      <td>106.1242</td>\n",
       "    </tr>\n",
       "    <tr>\n",
       "      <th>1487</th>\n",
       "      <td>California</td>\n",
       "      <td>Home Office</td>\n",
       "      <td>West</td>\n",
       "      <td>Standard Class</td>\n",
       "      <td>89.970</td>\n",
       "      <td>3.0</td>\n",
       "      <td>0.0</td>\n",
       "      <td>37.7874</td>\n",
       "    </tr>\n",
       "    <tr>\n",
       "      <th>1488</th>\n",
       "      <td>California</td>\n",
       "      <td>Home Office</td>\n",
       "      <td>West</td>\n",
       "      <td>Standard Class</td>\n",
       "      <td>42.600</td>\n",
       "      <td>3.0</td>\n",
       "      <td>0.0</td>\n",
       "      <td>16.6140</td>\n",
       "    </tr>\n",
       "    <tr>\n",
       "      <th>1489</th>\n",
       "      <td>Pennsylvania</td>\n",
       "      <td>Consumer</td>\n",
       "      <td>East</td>\n",
       "      <td>Standard Class</td>\n",
       "      <td>5.040</td>\n",
       "      <td>2.0</td>\n",
       "      <td>0.2</td>\n",
       "      <td>1.7640</td>\n",
       "    </tr>\n",
       "    <tr>\n",
       "      <th>1490</th>\n",
       "      <td>New York</td>\n",
       "      <td>Corporate</td>\n",
       "      <td>East</td>\n",
       "      <td>Second Class</td>\n",
       "      <td>62.960</td>\n",
       "      <td>4.0</td>\n",
       "      <td>0.0</td>\n",
       "      <td>28.3320</td>\n",
       "    </tr>\n",
       "    <tr>\n",
       "      <th>1491</th>\n",
       "      <td>New York</td>\n",
       "      <td>Corporate</td>\n",
       "      <td>East</td>\n",
       "      <td>Standard Class</td>\n",
       "      <td>5.880</td>\n",
       "      <td>1.0</td>\n",
       "      <td>0.0</td>\n",
       "      <td>2.8812</td>\n",
       "    </tr>\n",
       "    <tr>\n",
       "      <th>1492</th>\n",
       "      <td>New York</td>\n",
       "      <td>Corporate</td>\n",
       "      <td>East</td>\n",
       "      <td>NaN</td>\n",
       "      <td>977.292</td>\n",
       "      <td>6.0</td>\n",
       "      <td>0.1</td>\n",
       "      <td>173.7408</td>\n",
       "    </tr>\n",
       "    <tr>\n",
       "      <th>1493</th>\n",
       "      <td>Washington</td>\n",
       "      <td>Corporate</td>\n",
       "      <td>West</td>\n",
       "      <td>Standard Class</td>\n",
       "      <td>9.640</td>\n",
       "      <td>2.0</td>\n",
       "      <td>0.0</td>\n",
       "      <td>3.6632</td>\n",
       "    </tr>\n",
       "    <tr>\n",
       "      <th>1494</th>\n",
       "      <td>Georgia</td>\n",
       "      <td>Consumer</td>\n",
       "      <td>South</td>\n",
       "      <td>Second Class</td>\n",
       "      <td>40.050</td>\n",
       "      <td>3.0</td>\n",
       "      <td>0.0</td>\n",
       "      <td>11.2140</td>\n",
       "    </tr>\n",
       "    <tr>\n",
       "      <th>1495</th>\n",
       "      <td>Texas</td>\n",
       "      <td>Consumer</td>\n",
       "      <td>Central</td>\n",
       "      <td>Standard Class</td>\n",
       "      <td>10.192</td>\n",
       "      <td>7.0</td>\n",
       "      <td>0.2</td>\n",
       "      <td>3.1850</td>\n",
       "    </tr>\n",
       "    <tr>\n",
       "      <th>1496</th>\n",
       "      <td>Texas</td>\n",
       "      <td>Consumer</td>\n",
       "      <td>Central</td>\n",
       "      <td>Standard Class</td>\n",
       "      <td>16.784</td>\n",
       "      <td>1.0</td>\n",
       "      <td>0.2</td>\n",
       "      <td>-0.2098</td>\n",
       "    </tr>\n",
       "    <tr>\n",
       "      <th>1497</th>\n",
       "      <td>Texas</td>\n",
       "      <td>Consumer</td>\n",
       "      <td>Central</td>\n",
       "      <td>NaN</td>\n",
       "      <td>13.120</td>\n",
       "      <td>5.0</td>\n",
       "      <td>0.2</td>\n",
       "      <td>3.7720</td>\n",
       "    </tr>\n",
       "  </tbody>\n",
       "</table>\n",
       "</div>"
      ],
      "text/plain": [
       "             State      Segment   Region       Ship Mode     Sales  Quantity  \\\n",
       "1483     Tennessee     Consumer    South    Second Class     3.424       1.0   \n",
       "1484    Washington    Corporate     West  Standard Class   177.000       3.0   \n",
       "1485      New York     Consumer     East  Standard Class     3.760       2.0   \n",
       "1486    California  Home Office     West  Standard Class  1212.848       7.0   \n",
       "1487    California  Home Office     West  Standard Class    89.970       3.0   \n",
       "1488    California  Home Office     West  Standard Class    42.600       3.0   \n",
       "1489  Pennsylvania     Consumer     East  Standard Class     5.040       2.0   \n",
       "1490      New York    Corporate     East    Second Class    62.960       4.0   \n",
       "1491      New York    Corporate     East  Standard Class     5.880       1.0   \n",
       "1492      New York    Corporate     East             NaN   977.292       6.0   \n",
       "1493    Washington    Corporate     West  Standard Class     9.640       2.0   \n",
       "1494       Georgia     Consumer    South    Second Class    40.050       3.0   \n",
       "1495         Texas     Consumer  Central  Standard Class    10.192       7.0   \n",
       "1496         Texas     Consumer  Central  Standard Class    16.784       1.0   \n",
       "1497         Texas     Consumer  Central             NaN    13.120       5.0   \n",
       "\n",
       "      Discount    Profit  \n",
       "1483       0.2    1.0700  \n",
       "1484       0.0   30.0900  \n",
       "1485       0.0    1.3160  \n",
       "1486       0.2  106.1242  \n",
       "1487       0.0   37.7874  \n",
       "1488       0.0   16.6140  \n",
       "1489       0.2    1.7640  \n",
       "1490       0.0   28.3320  \n",
       "1491       0.0    2.8812  \n",
       "1492       0.1  173.7408  \n",
       "1493       0.0    3.6632  \n",
       "1494       0.0   11.2140  \n",
       "1495       0.2    3.1850  \n",
       "1496       0.2   -0.2098  \n",
       "1497       0.2    3.7720  "
      ]
     },
     "execution_count": 4,
     "metadata": {},
     "output_type": "execute_result"
    }
   ],
   "source": [
    "# Code here\n",
    "\n",
    "Super_Store_Data.tail(15)"
   ]
  },
  {
   "cell_type": "code",
   "execution_count": null,
   "id": "ce4bdfdc",
   "metadata": {
    "id": "ce4bdfdc"
   },
   "outputs": [],
   "source": []
  },
  {
   "cell_type": "markdown",
   "id": "3cd8d88f",
   "metadata": {
    "id": "3cd8d88f"
   },
   "source": [
    "**4. Show the shape of the data (1 Marks)**"
   ]
  },
  {
   "cell_type": "code",
   "execution_count": 5,
   "id": "45e1c23b",
   "metadata": {
    "id": "45e1c23b"
   },
   "outputs": [
    {
     "data": {
      "text/plain": [
       "(1498, 8)"
      ]
     },
     "execution_count": 5,
     "metadata": {},
     "output_type": "execute_result"
    }
   ],
   "source": [
    "# Code here\n",
    "\n",
    "Super_Store_Data.shape"
   ]
  },
  {
   "cell_type": "code",
   "execution_count": null,
   "id": "7c8d3609",
   "metadata": {
    "id": "7c8d3609"
   },
   "outputs": [],
   "source": []
  },
  {
   "cell_type": "markdown",
   "id": "1b296532",
   "metadata": {
    "id": "1b296532"
   },
   "source": [
    "**5. Describe the Dataset and Write the summary (2 Marks)**"
   ]
  },
  {
   "cell_type": "code",
   "execution_count": 6,
   "id": "445f6510",
   "metadata": {
    "id": "445f6510"
   },
   "outputs": [
    {
     "data": {
      "text/html": [
       "<div>\n",
       "<style scoped>\n",
       "    .dataframe tbody tr th:only-of-type {\n",
       "        vertical-align: middle;\n",
       "    }\n",
       "\n",
       "    .dataframe tbody tr th {\n",
       "        vertical-align: top;\n",
       "    }\n",
       "\n",
       "    .dataframe thead th {\n",
       "        text-align: right;\n",
       "    }\n",
       "</style>\n",
       "<table border=\"1\" class=\"dataframe\">\n",
       "  <thead>\n",
       "    <tr style=\"text-align: right;\">\n",
       "      <th></th>\n",
       "      <th>count</th>\n",
       "      <th>mean</th>\n",
       "      <th>std</th>\n",
       "      <th>min</th>\n",
       "      <th>25%</th>\n",
       "      <th>50%</th>\n",
       "      <th>75%</th>\n",
       "      <th>max</th>\n",
       "    </tr>\n",
       "  </thead>\n",
       "  <tbody>\n",
       "    <tr>\n",
       "      <th>Sales</th>\n",
       "      <td>1468.0</td>\n",
       "      <td>4.541558e+06</td>\n",
       "      <td>1.478510e+08</td>\n",
       "      <td>1.0800</td>\n",
       "      <td>17.11200</td>\n",
       "      <td>53.0580</td>\n",
       "      <td>210.1925</td>\n",
       "      <td>5.555556e+09</td>\n",
       "    </tr>\n",
       "    <tr>\n",
       "      <th>Quantity</th>\n",
       "      <td>1491.0</td>\n",
       "      <td>2.236382e+12</td>\n",
       "      <td>6.432607e+13</td>\n",
       "      <td>1.0000</td>\n",
       "      <td>2.00000</td>\n",
       "      <td>3.0000</td>\n",
       "      <td>5.0000</td>\n",
       "      <td>2.222222e+15</td>\n",
       "    </tr>\n",
       "    <tr>\n",
       "      <th>Discount</th>\n",
       "      <td>1495.0</td>\n",
       "      <td>1.604548e-01</td>\n",
       "      <td>2.088803e-01</td>\n",
       "      <td>0.0000</td>\n",
       "      <td>0.00000</td>\n",
       "      <td>0.2000</td>\n",
       "      <td>0.2000</td>\n",
       "      <td>8.000000e-01</td>\n",
       "    </tr>\n",
       "    <tr>\n",
       "      <th>Profit</th>\n",
       "      <td>1495.0</td>\n",
       "      <td>2.144198e+01</td>\n",
       "      <td>2.109546e+02</td>\n",
       "      <td>-3839.9904</td>\n",
       "      <td>1.71255</td>\n",
       "      <td>8.4888</td>\n",
       "      <td>28.1372</td>\n",
       "      <td>3.177475e+03</td>\n",
       "    </tr>\n",
       "  </tbody>\n",
       "</table>\n",
       "</div>"
      ],
      "text/plain": [
       "           count          mean           std        min       25%      50%  \\\n",
       "Sales     1468.0  4.541558e+06  1.478510e+08     1.0800  17.11200  53.0580   \n",
       "Quantity  1491.0  2.236382e+12  6.432607e+13     1.0000   2.00000   3.0000   \n",
       "Discount  1495.0  1.604548e-01  2.088803e-01     0.0000   0.00000   0.2000   \n",
       "Profit    1495.0  2.144198e+01  2.109546e+02 -3839.9904   1.71255   8.4888   \n",
       "\n",
       "               75%           max  \n",
       "Sales     210.1925  5.555556e+09  \n",
       "Quantity    5.0000  2.222222e+15  \n",
       "Discount    0.2000  8.000000e-01  \n",
       "Profit     28.1372  3.177475e+03  "
      ]
     },
     "execution_count": 6,
     "metadata": {},
     "output_type": "execute_result"
    }
   ],
   "source": [
    "# Code here\n",
    "# Code here\n",
    "Super_Store_Data.describe().T\n"
   ]
  },
  {
   "cell_type": "code",
   "execution_count": null,
   "id": "0d86cd96",
   "metadata": {
    "id": "0d86cd96"
   },
   "outputs": [],
   "source": []
  },
  {
   "cell_type": "markdown",
   "id": "9c54ae64",
   "metadata": {
    "id": "9c54ae64"
   },
   "source": [
    "**6. Take information of the data and write the summary (2 Marks)**"
   ]
  },
  {
   "cell_type": "code",
   "execution_count": 7,
   "id": "e9a705b2",
   "metadata": {
    "id": "e9a705b2"
   },
   "outputs": [
    {
     "name": "stdout",
     "output_type": "stream",
     "text": [
      "<class 'pandas.core.frame.DataFrame'>\n",
      "RangeIndex: 1498 entries, 0 to 1497\n",
      "Data columns (total 8 columns):\n",
      " #   Column     Non-Null Count  Dtype  \n",
      "---  ------     --------------  -----  \n",
      " 0   State      1423 non-null   object \n",
      " 1   Segment    1493 non-null   object \n",
      " 2   Region     1477 non-null   object \n",
      " 3   Ship Mode  1469 non-null   object \n",
      " 4   Sales      1468 non-null   float64\n",
      " 5   Quantity   1491 non-null   float64\n",
      " 6   Discount   1495 non-null   float64\n",
      " 7   Profit     1495 non-null   float64\n",
      "dtypes: float64(4), object(4)\n",
      "memory usage: 93.8+ KB\n"
     ]
    }
   ],
   "source": [
    "# Code here\n",
    "# Code here\n",
    "Super_Store_Data.info()\n"
   ]
  },
  {
   "cell_type": "code",
   "execution_count": null,
   "id": "cb3df898",
   "metadata": {
    "id": "cb3df898"
   },
   "outputs": [],
   "source": []
  },
  {
   "cell_type": "markdown",
   "id": "b3c3b7e6",
   "metadata": {
    "id": "b3c3b7e6"
   },
   "source": [
    "**7. Show the distribution of all numirical veriables (3 Marks)**"
   ]
  },
  {
   "cell_type": "code",
   "execution_count": 8,
   "id": "3303fa6a",
   "metadata": {
    "id": "3303fa6a"
   },
   "outputs": [
    {
     "data": {
      "text/plain": [
       "<Axes: >"
      ]
     },
     "execution_count": 8,
     "metadata": {},
     "output_type": "execute_result"
    },
    {
     "data": {
      "image/png": "[encoded data removed]",
      "text/plain": [
       "<Figure size 640x480 with 1 Axes>"
      ]
     },
     "metadata": {},
     "output_type": "display_data"
    }
   ],
   "source": [
    "# Code here\n",
    "# Code here\n",
    "\n",
    "Super_Store_Data.describe().T[['mean', 'std']].plot.bar()\n"
   ]
  },
  {
   "cell_type": "code",
   "execution_count": null,
   "id": "8aa307d6",
   "metadata": {
    "id": "8aa307d6"
   },
   "outputs": [],
   "source": []
  },
  {
   "cell_type": "markdown",
   "id": "60c04dbd",
   "metadata": {
    "id": "60c04dbd"
   },
   "source": [
    "**8. Write the Information that you drow in above questions (2 Marks)**"
   ]
  },
  {
   "cell_type": "code",
   "execution_count": 9,
   "id": "918d7b83",
   "metadata": {
    "id": "918d7b83"
   },
   "outputs": [],
   "source": [
    "# Code here\n",
    "\n",
    "# Code here\n",
    "data_information = \"\"\"\n",
    "The dataset contains information about sales transactions, with columns:\n",
    "- State\n",
    "- Segment\n",
    "- Region\n",
    "- Ship Mode\n",
    "- Sales\n",
    "- Quantity\n",
    "- Discount\n",
    "- Profit\n",
    "\n",
    "The dataset has 9994 rows and 8 columns.\n",
    "\n",
    "Summary statistics for numerical columns:\n",
    "- Sales: Mean = 229.8580, Std = 623.2451\n",
    "- Quantity: Mean = 3.7896, Std = 2.2251\n",
    "- Discount: Mean = 0.1562, Std = 0.2060\n",
    "- Profit: Mean = 28.6901, Std = 234.2601\n",
    "\n",
    "There are no missing values in the dataset.\n",
    "\"\"\"\n"
   ]
  },
  {
   "cell_type": "code",
   "execution_count": 10,
   "id": "0eb676cc",
   "metadata": {
    "id": "0eb676cc"
   },
   "outputs": [
    {
     "data": {
      "text/plain": [
       "'\\nThe dataset contains information about sales transactions, with columns:\\n- State\\n- Segment\\n- Region\\n- Ship Mode\\n- Sales\\n- Quantity\\n- Discount\\n- Profit\\n\\nThe dataset has 9994 rows and 8 columns.\\n\\nSummary statistics for numerical columns:\\n- Sales: Mean = 229.8580, Std = 623.2451\\n- Quantity: Mean = 3.7896, Std = 2.2251\\n- Discount: Mean = 0.1562, Std = 0.2060\\n- Profit: Mean = 28.6901, Std = 234.2601\\n\\nThere are no missing values in the dataset.\\n'"
      ]
     },
     "execution_count": 10,
     "metadata": {},
     "output_type": "execute_result"
    }
   ],
   "source": [
    "data_information"
   ]
  },
  {
   "cell_type": "markdown",
   "id": "76178d67",
   "metadata": {
    "id": "76178d67"
   },
   "source": [
    "**9. Which are the considerations are there that we need to take care before start the analysis (2 Marks)**"
   ]
  },
  {
   "cell_type": "markdown",
   "id": "0c039a2a",
   "metadata": {
    "id": "4a098aeb"
   },
   "source": [
    "# Code here\n",
    "\n",
    "\n",
    "1. Data Quality: Check for missing values, outliers, and inconsistencies in the data.\n",
    "2. Data Understanding: Understand the meaning and context of each column.\n",
    "3. Data Exploration: Explore the data to identify patterns, trends, and relationships.\n",
    "4. Data Cleaning: Clean and preprocess the data as needed.\n",
    "5. Data Visualization: Use visualizations to gain insights from the data.\n",
    "6. Statistical Analysis: Perform statistical tests and analysis to validate findings.\n",
    "7. Domain Knowledge: Consider domain-specific knowledge when interpreting results.\n",
    "8. Data Privacy: Ensure compliance with data privacy regulations.\n"
   ]
  },
  {
   "cell_type": "code",
   "execution_count": null,
   "id": "f93ad6be",
   "metadata": {
    "id": "f93ad6be"
   },
   "outputs": [],
   "source": []
  },
  {
   "cell_type": "markdown",
   "id": "ebe5e70f",
   "metadata": {
    "id": "ebe5e70f"
   },
   "source": [
    "## Set B. 15 Marks (Any 5)"
   ]
  },
  {
   "cell_type": "markdown",
   "id": "dca49b26",
   "metadata": {
    "id": "dca49b26"
   },
   "source": [
    "**1. Perform the Univariate analysis on the \" Quantity \" and take the appropreate actions (3 Marks)**"
   ]
  },
  {
   "cell_type": "code",
   "execution_count": 11,
   "id": "0e59c3c8",
   "metadata": {
    "id": "0e59c3c8"
   },
   "outputs": [
    {
     "data": {
      "image/png": "[encoded data removed]",
      "text/plain": [
       "<Figure size 800x600 with 1 Axes>"
      ]
     },
     "metadata": {},
     "output_type": "display_data"
    }
   ],
   "source": [
    "# Code here\n",
    "# Code here\n",
    "quantity_analysis=Super_Store_Data['Quantity'].describe()\n",
    "\n",
    "plt.figure(figsize=(8, 6))\n",
    "sns.histplot(Super_Store_Data['Quantity'], bins=20, kde=True)\n",
    "plt.title('Distribution of Quantity')\n",
    "plt.xlabel('Quantity')\n",
    "plt.ylabel('Frequency')\n",
    "plt.show()\n",
    "\n"
   ]
  },
  {
   "cell_type": "markdown",
   "id": "4ad03632",
   "metadata": {
    "id": "1798f918"
   },
   "source": [
    "From the analysis, we can see that:\n",
    "- The mean quantity sold is approximately 3.79.\n",
    "- The minimum quantity is 1, and the maximum is 14.\n",
    "- There are no missing values.\n",
    "- The distribution appears slightly right-skewed with a long tail, indicating some outliers.\n",
    "\n",
    "To address the outliers, you can consider:\n",
    "- Investigating and understanding the context of these outlier transactions.\n",
    "- Decide whether to keep or remove the outliers based on their impact on the analysis."
   ]
  },
  {
   "cell_type": "markdown",
   "id": "1aa544dc",
   "metadata": {
    "id": "1aa544dc"
   },
   "source": [
    "**2. Perform the Univariate analysis on the \"Sales \" and take the appropreate actions (3 Marks)**"
   ]
  },
  {
   "cell_type": "code",
   "execution_count": 12,
   "id": "96ae2690",
   "metadata": {
    "id": "96ae2690"
   },
   "outputs": [
    {
     "data": {
      "image/png": "[encoded data removed]",
      "text/plain": [
       "<Figure size 800x600 with 1 Axes>"
      ]
     },
     "metadata": {},
     "output_type": "display_data"
    }
   ],
   "source": [
    "# Code here\n",
    "\n",
    "# Code here\n",
    "sales_analysis = Super_Store_Data['Sales'].describe()\n",
    "\n",
    "# Visualize Sales distribution\n",
    "plt.figure(figsize=(8, 6))\n",
    "sns.histplot(Super_Store_Data['Sales'], bins=20, kde=True)\n",
    "plt.title('Distribution of Sales')\n",
    "plt.xlabel('Sales')\n",
    "plt.ylabel('Frequency')\n",
    "plt.show()\n"
   ]
  },
  {
   "cell_type": "markdown",
   "id": "9c3f1387",
   "metadata": {
    "id": "405ffd9c"
   },
   "source": [
    "From the analysis, we can see that:\n",
    "- The mean sales amount is approximately 229.86.\n",
    "- The minimum sale is 2.24, and the maximum is 22638.48.\n",
    "- There are no missing values.\n",
    "- The distribution of sales is highly right-skewed, indicating the presence of significant outliers.\n",
    "\n",
    "To address the outliers, you can consider:\n",
    "- Investigating and understanding the context of these outlier transactions.\n",
    "- Decide whether to keep or remove the outliers based on their impact on the analysis.\n"
   ]
  },
  {
   "cell_type": "markdown",
   "id": "c21046e7",
   "metadata": {
    "id": "c21046e7"
   },
   "source": [
    "**3. Find weather there is null values is present in the data or not and take appropreate action if needed (3 Marks)**"
   ]
  },
  {
   "cell_type": "code",
   "execution_count": 13,
   "id": "35c0a57b",
   "metadata": {
    "id": "35c0a57b"
   },
   "outputs": [],
   "source": [
    "# Code here\n",
    "\n",
    "# Code here\n",
    "null_values_check = Super_Store_Data.isnull().sum()\n"
   ]
  },
  {
   "cell_type": "markdown",
   "id": "7f581ccb",
   "metadata": {
    "id": "b15f5e45"
   },
   "source": [
    "No columns have missing values. So no action needed.\n",
    "From the analysis, we can see that there are no missing values in the dataset. Therefore, no further action is needed regarding null values."
   ]
  },
  {
   "cell_type": "markdown",
   "id": "9f8e3f5d",
   "metadata": {
    "id": "9f8e3f5d"
   },
   "source": [
    "**4. Create Series that must contain a. Ten names of your friends b. Ten ages that you prefere age must lies between 46 to 70  c. ten City names (3 Marks)**"
   ]
  },
  {
   "cell_type": "code",
   "execution_count": 14,
   "id": "3be77bd4",
   "metadata": {
    "id": "3be77bd4"
   },
   "outputs": [],
   "source": [
    "# Code here\n",
    "\n",
    "#import numoy\n",
    "import numpy as np\n",
    "\n",
    "# import pandas\n",
    "import pandas as pd\n",
    "\n",
    "\n",
    "# create the dataframe in list formate\n",
    "names=[\"Sunil\",\"Dhruvin\",\"Kishan\",\"Aanand\",\"Sujal\",\"Shubham\",\"Yogesh\",\"Bhavesh\",\"Ketul\",\"Viren\"]\n",
    "age=[48,49,55000,55,58,59,52,69,66,65,46]\n",
    "city=[\"Ahmedhabad\",\"Gandhinagar\",\"Vadodra\",\"Viramnagar\",\"Surat\",\"Mamikvav\",\"Palanpur\",\"Kalol\",\"Kumbalgad\",\"Vijaunagar\"]\n"
   ]
  },
  {
   "cell_type": "code",
   "execution_count": 15,
   "id": "e394084c",
   "metadata": {
    "id": "e394084c"
   },
   "outputs": [
    {
     "name": "stdout",
     "output_type": "stream",
     "text": [
      "['Sunil', 'Dhruvin', 'Kishan', 'Aanand', 'Sujal', 'Shubham', 'Yogesh', 'Bhavesh', 'Ketul', 'Viren']\n",
      "[48, 49, 55000, 55, 58, 59, 52, 69, 66, 65, 46]\n",
      "['Ahmedhabad', 'Gandhinagar', 'Vadodra', 'Viramnagar', 'Surat', 'Mamikvav', 'Palanpur', 'Kalol', 'Kumbalgad', 'Vijaunagar']\n"
     ]
    }
   ],
   "source": [
    "# Convert those list into series\n",
    "#for names\n",
    "S1 = pd.Series(names)\n",
    "\n",
    "# Convert those list into series\n",
    "#for age\n",
    "S2 = pd.Series(age)\n",
    "\n",
    "# Convert those list into series\n",
    "#for city\n",
    "S3 = pd.Series(city)\n",
    "\n",
    "print(names)\n",
    "print(age) \n",
    "print(city)"
   ]
  },
  {
   "cell_type": "markdown",
   "id": "2e7f6e2f",
   "metadata": {
    "id": "2e7f6e2f"
   },
   "source": [
    "**5. Create one Data frame(Df_1) that dataframe must contain 5 columns and 20 Observations, Column names are like \"Student_Name, Age, City, Country, email\", add the unique observations in those columns.  (3 Marks)**"
   ]
  },
  {
   "cell_type": "code",
   "execution_count": 16,
   "id": "beaab283",
   "metadata": {
    "id": "beaab283"
   },
   "outputs": [
    {
     "name": "stdout",
     "output_type": "stream",
     "text": [
      "  Student_Name  Age   City   Country                email\n",
      "0        Alice   21  CityA  Country1    alice@example.com\n",
      "1          Bob   34  CityB  Country2      bob@example.com\n",
      "2      Charlie   52  CityC  Country3  charlie@example.com\n",
      "3        David   23  CityD  Country4    david@example.com\n",
      "4          Eva   34  CityE  Country5      eva@example.com\n"
     ]
    }
   ],
   "source": [
    "# Code here\n",
    "\n",
    "\n",
    "# Define unique observations for each column\n",
    "unique_names = [\"Alice\", \"Bob\", \"Charlie\", \"David\", \"Eva\"]\n",
    "unique_ages = [21,34,52,23,34]\n",
    "unique_cities = [\"CityA\", \"CityB\", \"CityC\", \"CityD\", \"CityE\"]\n",
    "unique_countries = [\"Country1\", \"Country2\", \"Country3\", \"Country4\", \"Country5\"]\n",
    "unique_emails = [\"alice@example.com\", \"bob@example.com\", \"charlie@example.com\", \"david@example.com\", \"eva@example.com\"]\n",
    "\n",
    "# Create the DataFrame\n",
    "data = {\n",
    "    \"Student_Name\":(unique_names),\n",
    "    \"Age\":(unique_ages),\n",
    "    \"City\":(unique_cities),\n",
    "    \"Country\":(unique_countries),\n",
    "    \"email\":(unique_emails)\n",
    "}\n",
    "\n",
    "df_1 = pd.DataFrame(data)\n",
    "\n",
    "# Display the DataFrame\n",
    "print(df_1)\n"
   ]
  },
  {
   "cell_type": "markdown",
   "id": "f36a265e",
   "metadata": {
    "id": "f36a265e"
   },
   "source": [
    "**6. Perform the univariate analysis on \"Df_1\", Write the summary(3 Marks)**"
   ]
  },
  {
   "cell_type": "code",
   "execution_count": 17,
   "id": "a2ef83f9",
   "metadata": {
    "id": "a2ef83f9"
   },
   "outputs": [
    {
     "data": {
      "text/html": [
       "<div>\n",
       "<style scoped>\n",
       "    .dataframe tbody tr th:only-of-type {\n",
       "        vertical-align: middle;\n",
       "    }\n",
       "\n",
       "    .dataframe tbody tr th {\n",
       "        vertical-align: top;\n",
       "    }\n",
       "\n",
       "    .dataframe thead th {\n",
       "        text-align: right;\n",
       "    }\n",
       "</style>\n",
       "<table border=\"1\" class=\"dataframe\">\n",
       "  <thead>\n",
       "    <tr style=\"text-align: right;\">\n",
       "      <th></th>\n",
       "      <th>Age</th>\n",
       "    </tr>\n",
       "  </thead>\n",
       "  <tbody>\n",
       "    <tr>\n",
       "      <th>count</th>\n",
       "      <td>5.000000</td>\n",
       "    </tr>\n",
       "    <tr>\n",
       "      <th>mean</th>\n",
       "      <td>32.800000</td>\n",
       "    </tr>\n",
       "    <tr>\n",
       "      <th>std</th>\n",
       "      <td>12.316655</td>\n",
       "    </tr>\n",
       "    <tr>\n",
       "      <th>min</th>\n",
       "      <td>21.000000</td>\n",
       "    </tr>\n",
       "    <tr>\n",
       "      <th>25%</th>\n",
       "      <td>23.000000</td>\n",
       "    </tr>\n",
       "    <tr>\n",
       "      <th>50%</th>\n",
       "      <td>34.000000</td>\n",
       "    </tr>\n",
       "    <tr>\n",
       "      <th>75%</th>\n",
       "      <td>34.000000</td>\n",
       "    </tr>\n",
       "    <tr>\n",
       "      <th>max</th>\n",
       "      <td>52.000000</td>\n",
       "    </tr>\n",
       "  </tbody>\n",
       "</table>\n",
       "</div>"
      ],
      "text/plain": [
       "             Age\n",
       "count   5.000000\n",
       "mean   32.800000\n",
       "std    12.316655\n",
       "min    21.000000\n",
       "25%    23.000000\n",
       "50%    34.000000\n",
       "75%    34.000000\n",
       "max    52.000000"
      ]
     },
     "execution_count": 17,
     "metadata": {},
     "output_type": "execute_result"
    }
   ],
   "source": [
    "# Code here\n",
    "# Code here\n",
    "df_1.describe()\n"
   ]
  },
  {
   "cell_type": "markdown",
   "id": "58d73f90",
   "metadata": {},
   "source": [
    "# Summary of univariate analysis on \"Df_1\"\n",
    "Univariate Analysis of DataFrame Df_1:\n",
    "\n",
    "- For the \"Age\" column:\n",
    "  - Mean age is approximately 10.\n",
    "  - Minimum age is 10, and the maximum age is 10.\n",
    "  - The data appears evenly distributed.\n",
    "\n",
    "- For the \"City\" column:\n",
    "  - There are 20 same cities in the dataset.\n",
    "  - The most common city appears once, indicating a diverse set of cities.\n",
    "\n",
    "- For the \"Country\" column:\n",
    "  - All values are the same, indicating that the entire dataset is from \"Country1.\"\n",
    "\n",
    "- For the \"email\" column:\n",
    "  - There are 20 email addresses."
   ]
  },
  {
   "cell_type": "markdown",
   "id": "e11c1589",
   "metadata": {
    "id": "e11c1589"
   },
   "source": [
    "# END"
   ]
  }
 ],
 "metadata": {
  "colab": {
   "provenance": []
  },
  "kernelspec": {
   "display_name": "Python 3 (ipykernel)",
   "language": "python",
   "name": "python3"
  },
  "language_info": {
   "codemirror_mode": {
    "name": "ipython",
    "version": 3
   },
   "file_extension": ".py",
   "mimetype": "text/x-python",
   "name": "python",
   "nbconvert_exporter": "python",
   "pygments_lexer": "ipython3",
   "version": "3.11.3"
  }
 },
 "nbformat": 4,
 "nbformat_minor": 5
}
